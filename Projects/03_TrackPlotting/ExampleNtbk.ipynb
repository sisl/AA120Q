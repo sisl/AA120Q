{
 "cells": [
  {
   "cell_type": "code",
   "execution_count": 1,
   "metadata": {
    "collapsed": false
   },
   "outputs": [
    {
     "name": "stderr",
     "output_type": "stream",
     "text": [
      "WARNING: New definition \n",
      "    .>(Images.AbstractImageDirect, AbstractArray) at /home/tim/.julia/v0.4/Images/src/algorithms.jl:179\n",
      "is ambiguous with: \n",
      "    .>(AbstractArray{Bool, N<:Any}, Union{DataArrays.DataArray{Bool, N<:Any}, DataArrays.PooledDataArray{Bool, R<:Integer, N<:Any}}) at /home/tim/.julia/v0.4/DataArrays/src/broadcast.jl:338.\n",
      "To fix, define \n",
      "    .>(Images.AbstractImageDirect{Bool, N<:Any}, Union{DataArrays.DataArray{Bool, N<:Any}, DataArrays.PooledDataArray{Bool, R<:Integer, N<:Any}})\n",
      "before the new definition.\n",
      "WARNING: New definition \n",
      "    .>(Images.AbstractImageDirect, AbstractArray) at /home/tim/.julia/v0.4/Images/src/algorithms.jl:179\n",
      "is ambiguous with: \n",
      "    .>(AbstractArray, Union{DataArrays.DataArray, DataArrays.PooledDataArray}) at /home/tim/.julia/v0.4/DataArrays/src/broadcast.jl:280.\n",
      "To fix, define \n",
      "    .>(Images.AbstractImageDirect, Union{DataArrays.DataArray, DataArrays.PooledDataArray})\n",
      "before the new definition.\n",
      "WARNING: New definition \n",
      "    .*(Images.AbstractImageDirect, AbstractArray) at /home/tim/.julia/v0.4/Images/src/algorithms.jl:51\n",
      "is ambiguous with: \n",
      "    .*(AbstractArray, Union{DataArrays.DataArray, DataArrays.PooledDataArray}, AbstractArray...) at /home/tim/.julia/v0.4/DataArrays/src/broadcast.jl:290.\n",
      "To fix, define \n",
      "    .*(Images.AbstractImageDirect, Union{DataArrays.DataArray, DataArrays.PooledDataArray})\n",
      "before the new definition.\n",
      "WARNING: New definition \n",
      "    .*(AbstractArray, Images.AbstractImageDirect) at /home/tim/.julia/v0.4/Images/src/algorithms.jl:52\n",
      "is ambiguous with: \n",
      "    .*(Union{DataArrays.DataArray, DataArrays.PooledDataArray}, AbstractArray...) at /home/tim/.julia/v0.4/DataArrays/src/broadcast.jl:290.\n",
      "To fix, define \n",
      "    .*(Union{DataArrays.DataArray, DataArrays.PooledDataArray}, Images.AbstractImageDirect)\n",
      "before the new definition.\n",
      "WARNING: New definition \n",
      "    -(Images.AbstractImageDirect, AbstractArray) at /home/tim/.julia/v0.4/Images/src/algorithms.jl:35\n",
      "is ambiguous with: \n",
      "    -(AbstractArray, DataArrays.DataArray) at /home/tim/.julia/v0.4/DataArrays/src/operators.jl:276.\n",
      "To fix, define \n",
      "    -(Images.AbstractImageDirect, DataArrays.DataArray)\n",
      "before the new definition.\n",
      "WARNING: New definition \n",
      "    -(Images.AbstractImageDirect, AbstractArray) at /home/tim/.julia/v0.4/Images/src/algorithms.jl:35\n",
      "is ambiguous with: \n",
      "    -(AbstractArray, DataArrays.AbstractDataArray) at /home/tim/.julia/v0.4/DataArrays/src/operators.jl:300.\n",
      "To fix, define \n",
      "    -(Images.AbstractImageDirect, DataArrays.AbstractDataArray)\n",
      "before the new definition.\n",
      "WARNING: New definition \n",
      "    -(AbstractArray, Images.AbstractImageDirect) at /home/tim/.julia/v0.4/Images/src/algorithms.jl:37\n",
      "is ambiguous with: \n",
      "    -(DataArrays.DataArray, AbstractArray) at /home/tim/.julia/v0.4/DataArrays/src/operators.jl:276.\n",
      "To fix, define \n",
      "    -(DataArrays.DataArray, Images.AbstractImageDirect)\n",
      "before the new definition.\n",
      "WARNING: New definition \n",
      "    -(AbstractArray, Images.AbstractImageDirect) at /home/tim/.julia/v0.4/Images/src/algorithms.jl:37\n",
      "is ambiguous with: \n",
      "    -(DataArrays.AbstractDataArray, AbstractArray) at /home/tim/.julia/v0.4/DataArrays/src/operators.jl:300.\n",
      "To fix, define \n",
      "    -(DataArrays.AbstractDataArray, Images.AbstractImageDirect)\n",
      "before the new definition.\n",
      "WARNING: New definition \n",
      "    +(AbstractArray, Images.AbstractImageDirect) at /home/tim/.julia/v0.4/Images/src/algorithms.jl:20\n",
      "is ambiguous with: \n",
      "    +(DataArrays.DataArray, AbstractArray) at /home/tim/.julia/v0.4/DataArrays/src/operators.jl:276.\n",
      "To fix, define \n",
      "    +(DataArrays.DataArray, Images.AbstractImageDirect)\n",
      "before the new definition.\n",
      "WARNING: New definition \n",
      "    +(AbstractArray, Images.AbstractImageDirect) at /home/tim/.julia/v0.4/Images/src/algorithms.jl:20\n",
      "is ambiguous with: \n",
      "    +(DataArrays.AbstractDataArray, AbstractArray) at /home/tim/.julia/v0.4/DataArrays/src/operators.jl:300.\n",
      "To fix, define \n",
      "    +(DataArrays.AbstractDataArray, Images.AbstractImageDirect)\n",
      "before the new definition.\n",
      "WARNING: New definition \n",
      "    convert(Type{Array{#T<:ColorTypes.Colorant, N<:Any}}, AbstractArray{#S<:Any, #n<:Any}) at /home/tim/.julia/v0.4/Images/src/core.jl:400\n",
      "is ambiguous with: \n",
      "    convert(Type{Array{#S<:Any, N<:Any}}, DataArrays.DataArray{#T<:Any, #N<:Any}) at /home/tim/.julia/v0.4/DataArrays/src/dataarray.jl:367.\n",
      "To fix, define \n",
      "    convert(Type{Array{#T<:ColorTypes.Colorant, N<:Any}}, DataArrays.DataArray{#T<:Any, #N<:Any})\n",
      "before the new definition.\n",
      "WARNING: New definition \n",
      "    .==(Images.AbstractImageDirect{Bool, N<:Any}, AbstractArray{Bool, N<:Any}) at /home/tim/.julia/v0.4/Images/src/algorithms.jl:181\n",
      "is ambiguous with: \n",
      "    .==(AbstractArray{Bool, N<:Any}, Union{DataArrays.DataArray{Bool, N<:Any}, DataArrays.PooledDataArray{Bool, R<:Integer, N<:Any}}) at /home/tim/.julia/v0.4/DataArrays/src/broadcast.jl:338.\n",
      "To fix, define \n",
      "    .==(Images.AbstractImageDirect{Bool, N<:Any}, Union{DataArrays.DataArray{Bool, N<:Any}, DataArrays.PooledDataArray{Bool, R<:Integer, N<:Any}})\n",
      "before the new definition.\n",
      "WARNING: New definition \n",
      "    .==(Images.AbstractImageDirect, AbstractArray) at /home/tim/.julia/v0.4/Images/src/algorithms.jl:182\n",
      "is ambiguous with: \n",
      "    .==(AbstractArray{Bool, N<:Any}, Union{DataArrays.DataArray{Bool, N<:Any}, DataArrays.PooledDataArray{Bool, R<:Integer, N<:Any}}) at /home/tim/.julia/v0.4/DataArrays/src/broadcast.jl:338.\n",
      "To fix, define \n",
      "    .==(Images.AbstractImageDirect{Bool, N<:Any}, Union{DataArrays.DataArray{Bool, N<:Any}, DataArrays.PooledDataArray{Bool, R<:Integer, N<:Any}})\n",
      "before the new definition.\n",
      "WARNING: New definition \n",
      "    .==(Images.AbstractImageDirect, AbstractArray) at /home/tim/.julia/v0.4/Images/src/algorithms.jl:182\n",
      "is ambiguous with: \n",
      "    .==(AbstractArray, Union{DataArrays.DataArray, DataArrays.PooledDataArray}) at /home/tim/.julia/v0.4/DataArrays/src/broadcast.jl:280.\n",
      "To fix, define \n",
      "    .==(Images.AbstractImageDirect, Union{DataArrays.DataArray, DataArrays.PooledDataArray})\n",
      "before the new definition.\n",
      "WARNING: New definition \n",
      "    .-(Images.AbstractImageDirect, AbstractArray) at /home/tim/.julia/v0.4/Images/src/algorithms.jl:40\n",
      "is ambiguous with: \n",
      "    .-(AbstractArray, Union{DataArrays.DataArray, DataArrays.PooledDataArray}) at /home/tim/.julia/v0.4/DataArrays/src/broadcast.jl:280.\n",
      "To fix, define \n",
      "    .-(Images.AbstractImageDirect, Union{DataArrays.DataArray, DataArrays.PooledDataArray})\n",
      "before the new definition.\n",
      "WARNING: New definition \n",
      "    ./(Images.AbstractImageDirect, AbstractArray) at /home/tim/.julia/v0.4/Images/src/algorithms.jl:55\n",
      "is ambiguous with: \n",
      "    ./(AbstractArray, Union{DataArrays.DataArray, DataArrays.PooledDataArray}) at /home/tim/.julia/v0.4/DataArrays/src/broadcast.jl:280.\n",
      "To fix, define \n",
      "    ./(Images.AbstractImageDirect, Union{DataArrays.DataArray, DataArrays.PooledDataArray})\n",
      "before the new definition.\n",
      "WARNING: New definition \n",
      "    .+(Images.AbstractImageDirect, AbstractArray) at /home/tim/.julia/v0.4/Images/src/algorithms.jl:22\n",
      "is ambiguous with: \n",
      "    .+(AbstractArray, Union{DataArrays.DataArray, DataArrays.PooledDataArray}, AbstractArray...) at /home/tim/.julia/v0.4/DataArrays/src/broadcast.jl:292.\n",
      "To fix, define \n",
      "    .+(Images.AbstractImageDirect, Union{DataArrays.DataArray, DataArrays.PooledDataArray})\n",
      "before the new definition.\n",
      "WARNING: New definition \n",
      "    .<(Images.AbstractImageDirect{Bool, N<:Any}, AbstractArray{Bool, N<:Any}) at /home/tim/.julia/v0.4/Images/src/algorithms.jl:177\n",
      "is ambiguous with: \n",
      "    .<(AbstractArray{Bool, N<:Any}, Union{DataArrays.DataArray{Bool, N<:Any}, DataArrays.PooledDataArray{Bool, R<:Integer, N<:Any}}) at /home/tim/.julia/v0.4/DataArrays/src/broadcast.jl:338.\n",
      "To fix, define \n",
      "    .<(Images.AbstractImageDirect{Bool, N<:Any}, Union{DataArrays.DataArray{Bool, N<:Any}, DataArrays.PooledDataArray{Bool, R<:Integer, N<:Any}})\n",
      "before the new definition.\n",
      "WARNING: New definition \n",
      "    .<(Images.AbstractImageDirect, AbstractArray) at /home/tim/.julia/v0.4/Images/src/algorithms.jl:178\n",
      "is ambiguous with: \n",
      "    .<(AbstractArray{Bool, N<:Any}, Union{DataArrays.DataArray{Bool, N<:Any}, DataArrays.PooledDataArray{Bool, R<:Integer, N<:Any}}) at /home/tim/.julia/v0.4/DataArrays/src/broadcast.jl:338.\n",
      "To fix, define \n",
      "    .<(Images.AbstractImageDirect{Bool, N<:Any}, Union{DataArrays.DataArray{Bool, N<:Any}, DataArrays.PooledDataArray{Bool, R<:Integer, N<:Any}})\n",
      "before the new definition.\n",
      "WARNING: New definition \n",
      "    .<(Images.AbstractImageDirect, AbstractArray) at /home/tim/.julia/v0.4/Images/src/algorithms.jl:178\n",
      "is ambiguous with: \n",
      "    .<(AbstractArray, Union{DataArrays.DataArray, DataArrays.PooledDataArray}) at /home/tim/.julia/v0.4/DataArrays/src/broadcast.jl:280.\n",
      "To fix, define \n",
      "    .<(Images.AbstractImageDirect, Union{DataArrays.DataArray, DataArrays.PooledDataArray})\n",
      "before the new definition.\n"
     ]
    },
    {
     "data": {
      "text/plain": [
       "transform_regarding_TCA (generic function with 1 method)"
      ]
     },
     "execution_count": 1,
     "metadata": {},
     "output_type": "execute_result"
    }
   ],
   "source": [
    "include(\"example_code.jl\")"
   ]
  },
  {
   "cell_type": "code",
   "execution_count": 2,
   "metadata": {
    "collapsed": true
   },
   "outputs": [],
   "source": [
    "initial = readtable(\"initial.txt\", separator=' ', names=[:id, :A, :L, :chi, :beta, :C1, :C2, :v1, :v2, :dv1, :dv2, :dh1, :dh2, :dpsi1, :dpsi2, :hmd, :vmd]);"
   ]
  },
  {
   "cell_type": "code",
   "execution_count": 3,
   "metadata": {
    "collapsed": false
   },
   "outputs": [
    {
     "data": {
      "text/html": [
       "<table class=\"data-frame\"><tr><th></th><th>id</th><th>A</th><th>L</th><th>chi</th><th>beta</th><th>C1</th><th>C2</th><th>v1</th><th>v2</th><th>dv1</th><th>dv2</th><th>dh1</th><th>dh2</th><th>dpsi1</th><th>dpsi2</th><th>hmd</th><th>vmd</th></tr><tr><th>1</th><td>1</td><td>4</td><td>1</td><td>1</td><td>124.173</td><td>2</td><td>1</td><td>186.095</td><td>104.929</td><td>0.0</td><td>0.0</td><td>0.0</td><td>0.0</td><td>0.552088</td><td>0.413533</td><td>0.0152765</td><td>417.406</td></tr></table>"
      ],
      "text/plain": [
       "1×17 DataFrames.DataFrame\n",
       "│ Row │ id │ A │ L │ chi │ beta    │ C1 │ C2 │ v1      │ v2      │ dv1 │ dv2 │\n",
       "├─────┼────┼───┼───┼─────┼─────────┼────┼────┼─────────┼─────────┼─────┼─────┤\n",
       "│ 1   │ 1  │ 4 │ 1 │ 1   │ 124.173 │ 2  │ 1  │ 186.095 │ 104.929 │ 0.0 │ 0.0 │\n",
       "\n",
       "│ Row │ dh1 │ dh2 │ dpsi1    │ dpsi2    │ hmd       │ vmd     │\n",
       "├─────┼─────┼─────┼──────────┼──────────┼───────────┼─────────┤\n",
       "│ 1   │ 0.0 │ 0.0 │ 0.552088 │ 0.413533 │ 0.0152765 │ 417.406 │"
      ]
     },
     "execution_count": 3,
     "metadata": {},
     "output_type": "execute_result"
    }
   ],
   "source": [
    "initial[1,:]"
   ]
  },
  {
   "cell_type": "code",
   "execution_count": 4,
   "metadata": {
    "collapsed": false
   },
   "outputs": [],
   "source": [
    "transition = readtable(\"transition.txt\", separator=' ', names=[:id, :t, :dh1, :dh2, :dpsi1, :dpsi2]);"
   ]
  },
  {
   "cell_type": "code",
   "execution_count": null,
   "metadata": {
    "collapsed": false
   },
   "outputs": [],
   "source": []
  },
  {
   "cell_type": "code",
   "execution_count": 5,
   "metadata": {
    "collapsed": false
   },
   "outputs": [],
   "source": [
    "include(\"example_code.jl\")\n",
    "a1, a2 = pull_action_trace(transition, 1);"
   ]
  },
  {
   "cell_type": "code",
   "execution_count": 16,
   "metadata": {
    "collapsed": false
   },
   "outputs": [
    {
     "data": {
      "text/plain": [
       "51-element Array{AircraftAction,1}:\n",
       " AircraftAction(0.0,0.552088)\n",
       " AircraftAction(0.0,0.552088)\n",
       " AircraftAction(0.0,0.280157)\n",
       " AircraftAction(0.0,0.280157)\n",
       " AircraftAction(0.0,0.280157)\n",
       " AircraftAction(0.0,0.280157)\n",
       " AircraftAction(0.0,0.280157)\n",
       " AircraftAction(0.0,0.280157)\n",
       " AircraftAction(0.0,0.280157)\n",
       " AircraftAction(0.0,0.280157)\n",
       " AircraftAction(0.0,0.280157)\n",
       " AircraftAction(0.0,0.280157)\n",
       " AircraftAction(0.0,0.280157)\n",
       " ⋮                           \n",
       " AircraftAction(0.0,0.958279)\n",
       " AircraftAction(0.0,0.958279)\n",
       " AircraftAction(0.0,0.958279)\n",
       " AircraftAction(0.0,0.522087)\n",
       " AircraftAction(0.0,0.522087)\n",
       " AircraftAction(0.0,0.522087)\n",
       " AircraftAction(0.0,0.522087)\n",
       " AircraftAction(0.0,0.522087)\n",
       " AircraftAction(0.0,0.520846)\n",
       " AircraftAction(0.0,0.520846)\n",
       " AircraftAction(0.0,0.520846)\n",
       " AircraftAction(0.0,0.0)     "
      ]
     },
     "execution_count": 16,
     "metadata": {},
     "output_type": "execute_result"
    }
   ],
   "source": [
    "include(\"example_code.jl\")\n",
    "a1"
   ]
  },
  {
   "cell_type": "code",
   "execution_count": 20,
   "metadata": {
    "collapsed": false
   },
   "outputs": [
    {
     "name": "stderr",
     "output_type": "stream",
     "text": [
      "WARNING: imported binding for trace overwritten in module Main\n"
     ]
    },
    {
     "data": {
      "text/plain": [
       "52-element Array{AircraftState,1}:\n",
       " AircraftState(0.0,0.0,0.0,1.0,0.0)                                              \n",
       " AircraftState(1.0,0.0,0.0,1.0,0.552088)                                         \n",
       " AircraftState(1.9999535764877803,0.009635604251784344,0.0,1.0,1.104176)         \n",
       " AircraftState(2.9997678867491864,0.028905918118169574,0.0,1.0,1.384333)         \n",
       " AircraftState(3.999476019909254,0.05306473625177763,0.0,1.0,1.66449)            \n",
       " AircraftState(4.999054074198606,0.08211148104552471,0.0,1.0,1.944647)           \n",
       " AircraftState(5.998478150957888,0.11604545802812247,0.0,1.0,2.224804)           \n",
       " AircraftState(6.997724355209158,0.1548658558806819,0.0,1.0,2.5049609999999998)  \n",
       " AircraftState(7.996768796227178,0.19857174645611114,0.0,1.0,2.7851179999999998) \n",
       " AircraftState(8.99558758811062,0.24716208480130603,0.0,1.0,3.0652749999999997)  \n",
       " AircraftState(9.994156850353145,0.30063570918213384,0.0,1.0,3.3454319999999997) \n",
       " AircraftState(10.99245270841435,0.3589913411112088,0.0,1.0,3.6255889999999997)  \n",
       " AircraftState(11.990451294290589,0.42222758537845906,0.0,1.0,3.9057459999999997)\n",
       " ⋮                                                                               \n",
       " AircraftState(39.60280632003073,4.68762071504155,0.0,1.0,17.960479000000007)    \n",
       " AircraftState(40.55407576119836,4.995981624205818,0.0,1.0,18.918758000000008)   \n",
       " AircraftState(41.500055022370816,5.320208762847258,0.0,1.0,19.87703700000001)   \n",
       " AircraftState(42.4404794911621,5.66021143709944,0.0,1.0,20.399124000000008)     \n",
       " AircraftState(43.377766809891845,6.008769154197214,0.0,1.0,20.921211000000007)  \n",
       " AircraftState(44.31183915515476,6.365852973229997,0.0,1.0,21.443298000000006)   \n",
       " AircraftState(45.24261897048631,6.731433245360966,0.0,1.0,21.965385000000005)   \n",
       " AircraftState(46.17002897280228,7.105479616288815,0.0,1.0,22.487472000000004)   \n",
       " AircraftState(47.09399215881558,7.4879610287680896,0.0,1.0,23.008318000000003)  \n",
       " AircraftState(48.01444027759518,7.878825788800385,0.0,1.0,23.529164)            \n",
       " AircraftState(48.93129726679348,8.278041596801804,0.0,1.0,24.05001)             \n",
       " AircraftState(49.84448736082025,8.685575463089464,0.0,1.0,24.05001)             "
      ]
     },
     "execution_count": 20,
     "metadata": {},
     "output_type": "execute_result"
    }
   ],
   "source": [
    "include(\"example_code.jl\")\n",
    "trace = get_state_trace(start_state(1.0,0.0), a1, 1.0)"
   ]
  },
  {
   "cell_type": "code",
   "execution_count": 23,
   "metadata": {
    "collapsed": false
   },
   "outputs": [
    {
     "data": {
      "image/svg+xml": [
       "<?xml version=\"1.0\" encoding=\"UTF-8\"?>\n",
       "<svg xmlns=\"http://www.w3.org/2000/svg\" xmlns:xlink=\"http://www.w3.org/1999/xlink\" width=\"541.869pt\" height=\"195.401pt\" viewBox=\"0 0 541.869 195.401\" version=\"1.1\">\n",
       "<defs>\n",
       "<g>\n",
       "<symbol overflow=\"visible\" id=\"glyph-1466181772624703-0-0\">\n",
       "<path style=\"stroke:none;\" d=\"\"/>\n",
       "</symbol>\n",
       "<symbol overflow=\"visible\" id=\"glyph-1466181772624703-0-1\">\n",
       "<path style=\"stroke:none;\" d=\"M 4.578125 -3.1875 C 4.578125 -3.984375 4.53125 -4.78125 4.1875 -5.515625 C 3.734375 -6.484375 2.90625 -6.640625 2.5 -6.640625 C 1.890625 -6.640625 1.171875 -6.375 0.75 -5.453125 C 0.4375 -4.765625 0.390625 -3.984375 0.390625 -3.1875 C 0.390625 -2.4375 0.421875 -1.546875 0.84375 -0.78125 C 1.265625 0.015625 2 0.21875 2.484375 0.21875 C 3.015625 0.21875 3.78125 0.015625 4.21875 -0.9375 C 4.53125 -1.625 4.578125 -2.40625 4.578125 -3.1875 Z M 2.484375 0 C 2.09375 0 1.5 -0.25 1.328125 -1.203125 C 1.21875 -1.796875 1.21875 -2.71875 1.21875 -3.3125 C 1.21875 -3.953125 1.21875 -4.609375 1.296875 -5.140625 C 1.484375 -6.328125 2.234375 -6.421875 2.484375 -6.421875 C 2.8125 -6.421875 3.46875 -6.234375 3.65625 -5.25 C 3.765625 -4.6875 3.765625 -3.9375 3.765625 -3.3125 C 3.765625 -2.5625 3.765625 -1.890625 3.65625 -1.25 C 3.5 -0.296875 2.9375 0 2.484375 0 Z M 2.484375 0 \"/>\n",
       "</symbol>\n",
       "<symbol overflow=\"visible\" id=\"glyph-1466181772624703-0-2\">\n",
       "<path style=\"stroke:none;\" d=\"M 4.46875 -2 C 4.46875 -3.1875 3.65625 -4.1875 2.578125 -4.1875 C 2.109375 -4.1875 1.671875 -4.03125 1.3125 -3.671875 L 1.3125 -5.625 C 1.515625 -5.5625 1.84375 -5.5 2.15625 -5.5 C 3.390625 -5.5 4.09375 -6.40625 4.09375 -6.53125 C 4.09375 -6.59375 4.0625 -6.640625 3.984375 -6.640625 C 3.984375 -6.640625 3.953125 -6.640625 3.90625 -6.609375 C 3.703125 -6.515625 3.21875 -6.3125 2.546875 -6.3125 C 2.15625 -6.3125 1.6875 -6.390625 1.21875 -6.59375 C 1.140625 -6.625 1.125 -6.625 1.109375 -6.625 C 1 -6.625 1 -6.546875 1 -6.390625 L 1 -3.4375 C 1 -3.265625 1 -3.1875 1.140625 -3.1875 C 1.21875 -3.1875 1.234375 -3.203125 1.28125 -3.265625 C 1.390625 -3.421875 1.75 -3.96875 2.5625 -3.96875 C 3.078125 -3.96875 3.328125 -3.515625 3.40625 -3.328125 C 3.5625 -2.953125 3.59375 -2.578125 3.59375 -2.078125 C 3.59375 -1.71875 3.59375 -1.125 3.34375 -0.703125 C 3.109375 -0.3125 2.734375 -0.0625 2.28125 -0.0625 C 1.5625 -0.0625 0.984375 -0.59375 0.8125 -1.171875 C 0.84375 -1.171875 0.875 -1.15625 0.984375 -1.15625 C 1.3125 -1.15625 1.484375 -1.40625 1.484375 -1.640625 C 1.484375 -1.890625 1.3125 -2.140625 0.984375 -2.140625 C 0.84375 -2.140625 0.5 -2.0625 0.5 -1.609375 C 0.5 -0.75 1.1875 0.21875 2.296875 0.21875 C 3.453125 0.21875 4.46875 -0.734375 4.46875 -2 Z M 4.46875 -2 \"/>\n",
       "</symbol>\n",
       "<symbol overflow=\"visible\" id=\"glyph-1466181772624703-0-3\">\n",
       "<path style=\"stroke:none;\" d=\"M 2.9375 -6.375 C 2.9375 -6.625 2.9375 -6.640625 2.703125 -6.640625 C 2.078125 -6 1.203125 -6 0.890625 -6 L 0.890625 -5.6875 C 1.09375 -5.6875 1.671875 -5.6875 2.1875 -5.953125 L 2.1875 -0.78125 C 2.1875 -0.421875 2.15625 -0.3125 1.265625 -0.3125 L 0.953125 -0.3125 L 0.953125 0 C 1.296875 -0.03125 2.15625 -0.03125 2.5625 -0.03125 C 2.953125 -0.03125 3.828125 -0.03125 4.171875 0 L 4.171875 -0.3125 L 3.859375 -0.3125 C 2.953125 -0.3125 2.9375 -0.421875 2.9375 -0.78125 Z M 2.9375 -6.375 \"/>\n",
       "</symbol>\n",
       "<symbol overflow=\"visible\" id=\"glyph-1466181772624703-0-4\">\n",
       "<path style=\"stroke:none;\" d=\"M 1.265625 -0.765625 L 2.328125 -1.796875 C 3.875 -3.171875 4.46875 -3.703125 4.46875 -4.703125 C 4.46875 -5.84375 3.578125 -6.640625 2.359375 -6.640625 C 1.234375 -6.640625 0.5 -5.71875 0.5 -4.828125 C 0.5 -4.28125 1 -4.28125 1.03125 -4.28125 C 1.203125 -4.28125 1.546875 -4.390625 1.546875 -4.8125 C 1.546875 -5.0625 1.359375 -5.328125 1.015625 -5.328125 C 0.9375 -5.328125 0.921875 -5.328125 0.890625 -5.3125 C 1.109375 -5.96875 1.65625 -6.328125 2.234375 -6.328125 C 3.140625 -6.328125 3.5625 -5.515625 3.5625 -4.703125 C 3.5625 -3.90625 3.078125 -3.125 2.515625 -2.5 L 0.609375 -0.375 C 0.5 -0.265625 0.5 -0.234375 0.5 0 L 4.203125 0 L 4.46875 -1.734375 L 4.234375 -1.734375 C 4.171875 -1.4375 4.109375 -1 4 -0.84375 C 3.9375 -0.765625 3.28125 -0.765625 3.0625 -0.765625 Z M 1.265625 -0.765625 \"/>\n",
       "</symbol>\n",
       "<symbol overflow=\"visible\" id=\"glyph-1466181772624703-0-5\">\n",
       "<path style=\"stroke:none;\" d=\"M 2.890625 -3.515625 C 3.703125 -3.78125 4.28125 -4.46875 4.28125 -5.265625 C 4.28125 -6.078125 3.40625 -6.640625 2.453125 -6.640625 C 1.453125 -6.640625 0.6875 -6.046875 0.6875 -5.28125 C 0.6875 -4.953125 0.90625 -4.765625 1.203125 -4.765625 C 1.5 -4.765625 1.703125 -4.984375 1.703125 -5.28125 C 1.703125 -5.765625 1.234375 -5.765625 1.09375 -5.765625 C 1.390625 -6.265625 2.046875 -6.390625 2.40625 -6.390625 C 2.828125 -6.390625 3.375 -6.171875 3.375 -5.28125 C 3.375 -5.15625 3.34375 -4.578125 3.09375 -4.140625 C 2.796875 -3.65625 2.453125 -3.625 2.203125 -3.625 C 2.125 -3.609375 1.890625 -3.59375 1.8125 -3.59375 C 1.734375 -3.578125 1.671875 -3.5625 1.671875 -3.46875 C 1.671875 -3.359375 1.734375 -3.359375 1.90625 -3.359375 L 2.34375 -3.359375 C 3.15625 -3.359375 3.53125 -2.6875 3.53125 -1.703125 C 3.53125 -0.34375 2.84375 -0.0625 2.40625 -0.0625 C 1.96875 -0.0625 1.21875 -0.234375 0.875 -0.8125 C 1.21875 -0.765625 1.53125 -0.984375 1.53125 -1.359375 C 1.53125 -1.71875 1.265625 -1.921875 0.984375 -1.921875 C 0.734375 -1.921875 0.421875 -1.78125 0.421875 -1.34375 C 0.421875 -0.4375 1.34375 0.21875 2.4375 0.21875 C 3.65625 0.21875 4.5625 -0.6875 4.5625 -1.703125 C 4.5625 -2.515625 3.921875 -3.296875 2.890625 -3.515625 Z M 2.890625 -3.515625 \"/>\n",
       "</symbol>\n",
       "<symbol overflow=\"visible\" id=\"glyph-1466181772624703-0-6\">\n",
       "<path style=\"stroke:none;\" d=\"M 2.9375 -1.640625 L 2.9375 -0.78125 C 2.9375 -0.421875 2.90625 -0.3125 2.171875 -0.3125 L 1.96875 -0.3125 L 1.96875 0 C 2.375 -0.03125 2.890625 -0.03125 3.3125 -0.03125 C 3.734375 -0.03125 4.25 -0.03125 4.671875 0 L 4.671875 -0.3125 L 4.453125 -0.3125 C 3.71875 -0.3125 3.703125 -0.421875 3.703125 -0.78125 L 3.703125 -1.640625 L 4.6875 -1.640625 L 4.6875 -1.953125 L 3.703125 -1.953125 L 3.703125 -6.484375 C 3.703125 -6.6875 3.703125 -6.75 3.53125 -6.75 C 3.453125 -6.75 3.421875 -6.75 3.34375 -6.625 L 0.28125 -1.953125 L 0.28125 -1.640625 Z M 2.984375 -1.953125 L 0.5625 -1.953125 L 2.984375 -5.671875 Z M 2.984375 -1.953125 \"/>\n",
       "</symbol>\n",
       "<symbol overflow=\"visible\" id=\"glyph-1466181772624703-1-0\">\n",
       "<path style=\"stroke:none;\" d=\"\"/>\n",
       "</symbol>\n",
       "<symbol overflow=\"visible\" id=\"glyph-1466181772624703-1-1\">\n",
       "<path style=\"stroke:none;\" d=\"M 6.5625 -2.296875 C 6.734375 -2.296875 6.921875 -2.296875 6.921875 -2.5 C 6.921875 -2.6875 6.734375 -2.6875 6.5625 -2.6875 L 1.171875 -2.6875 C 1 -2.6875 0.828125 -2.6875 0.828125 -2.5 C 0.828125 -2.296875 1 -2.296875 1.171875 -2.296875 Z M 6.5625 -2.296875 \"/>\n",
       "</symbol>\n",
       "</g>\n",
       "</defs>\n",
       "<g id=\"surface1\">\n",
       "<path style=\"fill:none;stroke-width:0.19925;stroke-linecap:butt;stroke-linejoin:miter;stroke:rgb(50%,50%,50%);stroke-opacity:1;stroke-miterlimit:10;\" d=\"M 0.00103125 -53.063625 L 0.00103125 -48.813625 M 0.00103125 128.877781 L 0.00103125 124.627781 M 43.645563 -53.063625 L 43.645563 -48.813625 M 43.645563 128.877781 L 43.645563 124.627781 M 87.290094 -53.063625 L 87.290094 -48.813625 M 87.290094 128.877781 L 87.290094 124.627781 M 130.930719 -53.063625 L 130.930719 -48.813625 M 130.930719 128.877781 L 130.930719 124.627781 M 174.57525 -53.063625 L 174.57525 -48.813625 M 174.57525 128.877781 L 174.57525 124.627781 M 218.219781 -53.063625 L 218.219781 -48.813625 M 218.219781 128.877781 L 218.219781 124.627781 M 261.864312 -53.063625 L 261.864312 -48.813625 M 261.864312 128.877781 L 261.864312 124.627781 M 305.508844 -53.063625 L 305.508844 -48.813625 M 305.508844 128.877781 L 305.508844 124.627781 M 349.153375 -53.063625 L 349.153375 -48.813625 M 349.153375 128.877781 L 349.153375 124.627781 M 392.797906 -53.063625 L 392.797906 -48.813625 M 392.797906 128.877781 L 392.797906 124.627781 M 436.442437 -53.063625 L 436.442437 -48.813625 M 436.442437 128.877781 L 436.442437 124.627781 \" transform=\"matrix(1,0,0,-1,63.081,129.077)\"/>\n",
       "<path style=\"fill:none;stroke-width:0.19925;stroke-linecap:butt;stroke-linejoin:miter;stroke:rgb(50%,50%,50%);stroke-opacity:1;stroke-miterlimit:10;\" d=\"M -43.510687 -43.645656 L -39.260687 -43.645656 M 478.594781 -43.645656 L 474.344781 -43.645656 M -43.510687 -0.001125 L -39.260687 -0.001125 M 478.594781 -0.001125 L 474.344781 -0.001125 M -43.510687 43.643406 L -39.260687 43.643406 M 478.594781 43.643406 L 474.344781 43.643406 M -43.510687 87.287937 L -39.260687 87.287937 M 478.594781 87.287937 L 474.344781 87.287937 \" transform=\"matrix(1,0,0,-1,63.081,129.077)\"/>\n",
       "<path style=\"fill:none;stroke-width:0.3985;stroke-linecap:butt;stroke-linejoin:miter;stroke:rgb(0%,0%,0%);stroke-opacity:1;stroke-miterlimit:10;\" d=\"M -43.510687 -53.063625 L -43.510687 128.877781 L 478.594781 128.877781 L 478.594781 -53.063625 Z M -43.510687 -53.063625 \" transform=\"matrix(1,0,0,-1,63.081,129.077)\"/>\n",
       "<g style=\"fill:rgb(0%,0%,0%);fill-opacity:1;\">\n",
       "  <use xlink:href=\"#glyph-1466181772624703-0-1\" x=\"60.59\" y=\"192.08\"/>\n",
       "</g>\n",
       "<g style=\"fill:rgb(0%,0%,0%);fill-opacity:1;\">\n",
       "  <use xlink:href=\"#glyph-1466181772624703-0-2\" x=\"104.234\" y=\"192.08\"/>\n",
       "</g>\n",
       "<g style=\"fill:rgb(0%,0%,0%);fill-opacity:1;\">\n",
       "  <use xlink:href=\"#glyph-1466181772624703-0-3\" x=\"145.387\" y=\"192.08\"/>\n",
       "  <use xlink:href=\"#glyph-1466181772624703-0-1\" x=\"150.36832\" y=\"192.08\"/>\n",
       "</g>\n",
       "<g style=\"fill:rgb(0%,0%,0%);fill-opacity:1;\">\n",
       "  <use xlink:href=\"#glyph-1466181772624703-0-3\" x=\"189.03\" y=\"192.08\"/>\n",
       "  <use xlink:href=\"#glyph-1466181772624703-0-2\" x=\"194.01132\" y=\"192.08\"/>\n",
       "</g>\n",
       "<g style=\"fill:rgb(0%,0%,0%);fill-opacity:1;\">\n",
       "  <use xlink:href=\"#glyph-1466181772624703-0-4\" x=\"232.674\" y=\"192.08\"/>\n",
       "  <use xlink:href=\"#glyph-1466181772624703-0-1\" x=\"237.65532\" y=\"192.08\"/>\n",
       "</g>\n",
       "<g style=\"fill:rgb(0%,0%,0%);fill-opacity:1;\">\n",
       "  <use xlink:href=\"#glyph-1466181772624703-0-4\" x=\"276.317\" y=\"192.08\"/>\n",
       "  <use xlink:href=\"#glyph-1466181772624703-0-2\" x=\"281.29832\" y=\"192.08\"/>\n",
       "</g>\n",
       "<g style=\"fill:rgb(0%,0%,0%);fill-opacity:1;\">\n",
       "  <use xlink:href=\"#glyph-1466181772624703-0-5\" x=\"319.961\" y=\"192.08\"/>\n",
       "  <use xlink:href=\"#glyph-1466181772624703-0-1\" x=\"324.94232\" y=\"192.08\"/>\n",
       "</g>\n",
       "<g style=\"fill:rgb(0%,0%,0%);fill-opacity:1;\">\n",
       "  <use xlink:href=\"#glyph-1466181772624703-0-5\" x=\"363.604\" y=\"192.08\"/>\n",
       "  <use xlink:href=\"#glyph-1466181772624703-0-2\" x=\"368.58532\" y=\"192.08\"/>\n",
       "</g>\n",
       "<g style=\"fill:rgb(0%,0%,0%);fill-opacity:1;\">\n",
       "  <use xlink:href=\"#glyph-1466181772624703-0-6\" x=\"407.248\" y=\"192.08\"/>\n",
       "  <use xlink:href=\"#glyph-1466181772624703-0-1\" x=\"412.22932\" y=\"192.08\"/>\n",
       "</g>\n",
       "<g style=\"fill:rgb(0%,0%,0%);fill-opacity:1;\">\n",
       "  <use xlink:href=\"#glyph-1466181772624703-0-6\" x=\"450.891\" y=\"192.08\"/>\n",
       "  <use xlink:href=\"#glyph-1466181772624703-0-2\" x=\"455.87232\" y=\"192.08\"/>\n",
       "</g>\n",
       "<g style=\"fill:rgb(0%,0%,0%);fill-opacity:1;\">\n",
       "  <use xlink:href=\"#glyph-1466181772624703-0-2\" x=\"494.535\" y=\"192.08\"/>\n",
       "  <use xlink:href=\"#glyph-1466181772624703-0-1\" x=\"499.51632\" y=\"192.08\"/>\n",
       "</g>\n",
       "<g style=\"fill:rgb(0%,0%,0%);fill-opacity:1;\">\n",
       "  <use xlink:href=\"#glyph-1466181772624703-1-1\" x=\"3.321\" y=\"175.515\"/>\n",
       "</g>\n",
       "<g style=\"fill:rgb(0%,0%,0%);fill-opacity:1;\">\n",
       "  <use xlink:href=\"#glyph-1466181772624703-0-2\" x=\"11.069\" y=\"175.515\"/>\n",
       "</g>\n",
       "<g style=\"fill:rgb(0%,0%,0%);fill-opacity:1;\">\n",
       "  <use xlink:href=\"#glyph-1466181772624703-0-1\" x=\"11.069\" y=\"132.287\"/>\n",
       "</g>\n",
       "<g style=\"fill:rgb(0%,0%,0%);fill-opacity:1;\">\n",
       "  <use xlink:href=\"#glyph-1466181772624703-0-2\" x=\"11.069\" y=\"88.643\"/>\n",
       "</g>\n",
       "<g style=\"fill:rgb(0%,0%,0%);fill-opacity:1;\">\n",
       "  <use xlink:href=\"#glyph-1466181772624703-0-3\" x=\"6.088\" y=\"45\"/>\n",
       "  <use xlink:href=\"#glyph-1466181772624703-0-1\" x=\"11.06932\" y=\"45\"/>\n",
       "</g>\n",
       "<path style=\"fill:none;stroke-width:0.3985;stroke-linecap:butt;stroke-linejoin:miter;stroke:rgb(0%,0%,100%);stroke-opacity:1;stroke-miterlimit:10;\" d=\"M 0.00103125 -0.001125 L 8.727594 -0.001125 L 17.458063 0.0848125 L 26.184625 0.252781 L 34.911188 0.463719 L 43.633844 0.717625 L 52.360406 1.0145 L 61.083063 1.350437 L 69.801813 1.73325 L 78.520563 2.159031 L 87.235406 2.623875 L 95.95025 3.131687 L 104.661188 3.686375 L 113.372125 4.280125 L 122.07525 4.916844 L 130.778375 5.596531 L 139.477594 6.319187 L 148.172906 7.084812 L 156.864313 7.8895 L 165.551813 8.741062 L 174.235406 9.631687 L 182.911188 10.569187 L 191.586969 11.54575 L 200.254938 12.565281 L 208.919 13.627781 L 217.579156 14.729344 L 226.2315 15.877781 L 234.879938 17.065281 L 243.520563 18.29575 L 252.149469 19.616062 L 260.76275 21.026219 L 269.364312 22.522312 L 277.946344 24.10825 L 286.508844 25.803562 L 295.047906 27.612156 L 303.563531 29.526219 L 312.055719 31.549656 L 320.520562 33.682469 L 328.946344 35.952 L 337.336969 38.366062 L 345.684625 40.916844 L 353.989312 43.60825 L 362.243219 46.440281 L 370.454156 49.405125 L 378.633844 52.448094 L 386.790094 55.565281 L 394.911187 58.756687 L 403.008844 62.022312 L 411.071344 65.362156 L 419.1065 68.772312 L 427.110406 72.256687 L 435.083062 75.815281 \" transform=\"matrix(1,0,0,-1,63.081,129.077)\"/>\n",
       "</g>\n",
       "</svg>\n",
       "\n"
      ],
      "text/plain": [
       "PGFPlots.Axis(PGFPlots.Plots.Plot[PGFPlots.Plots.Linear(2x52 Array{Real,2}:\n",
       " 0.0  1.0  1.99995    2.99977    3.99948    …  48.0144   48.9313   49.8445 \n",
       " 0.0  0.0  0.0096356  0.0289059  0.0530647      7.87883   8.27804   8.68558,\"none\",nothing,nothing,nothing,nothing)],nothing,nothing,nothing,nothing,nothing,nothing,nothing,nothing,nothing,nothing,nothing,true,nothing,nothing,nothing,nothing,\"20cm\",\"8cm\",nothing,nothing,nothing,nothing,nothing,nothing,nothing)"
      ]
     },
     "execution_count": 23,
     "metadata": {},
     "output_type": "execute_result"
    }
   ],
   "source": [
    "Axis(PGFPlots.Plots.Linear(map(s->s.x,trace), map(s->s.y,trace), mark=\"none\"), axisEqual=true, width=\"20cm\", height=\"8cm\")"
   ]
  },
  {
   "cell_type": "code",
   "execution_count": null,
   "metadata": {
    "collapsed": true
   },
   "outputs": [],
   "source": []
  }
 ],
 "metadata": {
  "kernelspec": {
   "display_name": "Julia 0.4.5",
   "language": "julia",
   "name": "julia-0.4"
  },
  "language_info": {
   "file_extension": ".jl",
   "mimetype": "application/julia",
   "name": "julia",
   "version": "0.4.5"
  }
 },
 "nbformat": 4,
 "nbformat_minor": 0
}
